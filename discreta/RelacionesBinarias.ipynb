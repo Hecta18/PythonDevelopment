{
 "cells": [
  {
   "cell_type": "markdown",
   "id": "08cfc375",
   "metadata": {},
   "source": [
    "# Relaciones binarias"
   ]
  },
  {
   "cell_type": "markdown",
   "id": "a377d106",
   "metadata": {},
   "source": [
    "Una **relación binaria** $R$ sobre un conjunto $A$ es un conjunto de pares ordenados, de manera que si $x$ está relacionado con $y$, entonces $(x,y)\\in R$."
   ]
  },
  {
   "cell_type": "code",
   "execution_count": null,
   "id": "99ebc074",
   "metadata": {},
   "outputs": [],
   "source": [
    "import numpy as np\n",
    "\n",
    "def get_matrix(relacion, conjunto):\n",
    "    \"\"\"\n",
    "    Completa la matriz de adyacencia.\n",
    "    \"\"\"\n",
    "    n = len(conjunto)\n",
    "    A = sorted(list(conjunto))\n",
    "\n",
    "    M = np.zeros((n,n), dtype=int)\n",
    "    for (x) in relacion:\n",
    "        i = A.index(x[0])\n",
    "        j = A.index(x[1])\n",
    "        M[i,j] = 1\n",
    "\n",
    "    return M\n",
    "\n",
    "def get_pairs(matriz, conjunto):\n",
    "    \"\"\"\n",
    "    Extrae pares ordenados a partir de una matriz de adyacencia.\n",
    "    \"\"\"\n",
    "    n = matriz.shape[0] # Numero de filas, [1] = numero de columnas\n",
    "    A = sorted(list(conjunto))\n",
    "\n",
    "    R = [(A[i], A[j]) for i in range(n) for j in range(n) if matriz[i,j] == 1]\n",
    "    return R\n",
    "    \n",
    "def producto_booleano(matriz1, matriz2):\n",
    "    \"\"\"\n",
    "    Calcula el producto booleano de dos matrices cuadradas.\n",
    "    \"\"\"\n",
    "    n = matriz1.shape[0]\n",
    "    M = matriz1 @ matriz2 # Producto normal\n",
    "\n",
    "    for i in range(n):\n",
    "        for j in range(n):\n",
    "            if M[i,j] > 1:\n",
    "                M[i,j] = 1\n",
    "    return M\n",
    "\n",
    "def precedence(matriz1, matriz2):\n",
    "    \"\"\"\n",
    "    Determina si matriz1 precede a matriz2.\n",
    "    \"\"\"\n",
    "\n",
    "def get_powerset(conjunto):\n",
    "    \"\"\"\n",
    "    Calcula el conjunto potencia de un conjunto.\n",
    "    \"\"\"\n",
    "    "
   ]
  },
  {
   "cell_type": "markdown",
   "id": "92ef69b0",
   "metadata": {},
   "source": [
    "## Ejercicio 1\n",
    "\n",
    "Sea $A=\\{1,2,\\ldots,10\\}$ un conjunto.\n",
    "\n",
    "a. Se define la relación $R$ sobre $A$ de modo que $(x,y)\\in R$ si $x+2=y$. Listar lo elementos de $R$."
   ]
  },
  {
   "cell_type": "code",
   "execution_count": null,
   "id": "9ef05d80",
   "metadata": {},
   "outputs": [],
   "source": [
    "A = list(range(1,11))\n",
    "R = set([(x,y) for x in A for y in A if y == x + 2])\n"
   ]
  },
  {
   "cell_type": "markdown",
   "id": "3e57c161",
   "metadata": {},
   "source": [
    "b. Completar la matriz de adyacencia de la relación $R$."
   ]
  },
  {
   "cell_type": "code",
   "execution_count": null,
   "id": "81a39dcc",
   "metadata": {
    "scrolled": true
   },
   "outputs": [],
   "source": [
    "M = get_matrix(R,A)\n",
    "print(M)"
   ]
  },
  {
   "cell_type": "markdown",
   "id": "85e53232",
   "metadata": {},
   "source": [
    "c. Calcular la matriz $M_{R\\circ R}$ y listar los pares en $R\\circ R$."
   ]
  },
  {
   "cell_type": "code",
   "execution_count": null,
   "id": "1bca6977",
   "metadata": {
    "scrolled": true
   },
   "outputs": [],
   "source": [
    "M2 = producto_booleano(M,M)\n",
    "R2 = get_pairs(M2,A)\n",
    "print(R2)"
   ]
  },
  {
   "cell_type": "markdown",
   "id": "9315d4da",
   "metadata": {},
   "source": [
    "# Propiedades de relaciones"
   ]
  },
  {
   "cell_type": "markdown",
   "id": "eee17804",
   "metadata": {},
   "source": [
    "## Ejercicio 2.\n",
    "Sea $A=\\{1,2,3,4,6,8,12\\}$ el conjunto de divisores propios de 24.\n",
    "\n",
    "a. Se define la relación $R$ sobre $A$ de modo que $(x,y)\\in R$ si $x$ divide a $y$. Completar la matriz de adyacencia de la relación $R$."
   ]
  },
  {
   "cell_type": "code",
   "execution_count": null,
   "id": "9ef61a72",
   "metadata": {},
   "outputs": [],
   "source": []
  },
  {
   "cell_type": "markdown",
   "id": "59f7aee3",
   "metadata": {},
   "source": [
    "b. Determinar si la relación es **reflexiva**."
   ]
  },
  {
   "cell_type": "code",
   "execution_count": null,
   "id": "6620abaa",
   "metadata": {},
   "outputs": [],
   "source": []
  },
  {
   "cell_type": "markdown",
   "id": "266f3d23",
   "metadata": {},
   "source": [
    "c. Determinar si la relación es **simétrica**."
   ]
  },
  {
   "cell_type": "code",
   "execution_count": null,
   "id": "5788665e",
   "metadata": {},
   "outputs": [],
   "source": []
  },
  {
   "cell_type": "markdown",
   "id": "c7a2efa5",
   "metadata": {},
   "source": [
    "d. Determinar si la relación es **antisimétrica**.  "
   ]
  },
  {
   "cell_type": "code",
   "execution_count": null,
   "id": "227c2165",
   "metadata": {},
   "outputs": [],
   "source": []
  },
  {
   "cell_type": "markdown",
   "id": "b122fecb",
   "metadata": {},
   "source": [
    "e. Determinar si la relación es **transitiva**."
   ]
  },
  {
   "cell_type": "code",
   "execution_count": null,
   "id": "3f624b3f",
   "metadata": {},
   "outputs": [],
   "source": []
  },
  {
   "cell_type": "markdown",
   "id": "d5db5311",
   "metadata": {},
   "source": [
    "## Ejercicio 3.\n",
    "\n",
    "Sea $A=\\{w,x,y,z\\}$ un conjunto.\n",
    "\n",
    "a. Se define la relación $R$ sobre $\\mathcal{P}(A)$ de modo que $(X,Y)\\in R$ si $|X|\\leq |Y|$. Completar la matriz de adyacencia de la relación $R$."
   ]
  },
  {
   "cell_type": "code",
   "execution_count": null,
   "id": "a132d183",
   "metadata": {},
   "outputs": [],
   "source": []
  },
  {
   "cell_type": "markdown",
   "id": "ce368c09",
   "metadata": {},
   "source": [
    "b. Determinar si la relación es **reflexiva**."
   ]
  },
  {
   "cell_type": "code",
   "execution_count": null,
   "id": "daceb57c",
   "metadata": {},
   "outputs": [],
   "source": []
  },
  {
   "cell_type": "markdown",
   "id": "80fbd193",
   "metadata": {},
   "source": [
    "c. Determinar si la relación es **simétrica**."
   ]
  },
  {
   "cell_type": "code",
   "execution_count": null,
   "id": "3208fe87",
   "metadata": {},
   "outputs": [],
   "source": []
  },
  {
   "cell_type": "markdown",
   "id": "50868505",
   "metadata": {},
   "source": [
    "d. Determinar si la relación es **antisimétrica**.  "
   ]
  },
  {
   "cell_type": "code",
   "execution_count": null,
   "id": "1bcadc76",
   "metadata": {},
   "outputs": [],
   "source": []
  },
  {
   "cell_type": "markdown",
   "id": "f9eea646",
   "metadata": {},
   "source": [
    "e. Determinar si la relación es **transitiva**."
   ]
  },
  {
   "cell_type": "code",
   "execution_count": null,
   "id": "30d69a9d",
   "metadata": {},
   "outputs": [],
   "source": []
  }
 ],
 "metadata": {
  "kernelspec": {
   "display_name": "Python 3 (ipykernel)",
   "language": "python",
   "name": "python3"
  },
  "language_info": {
   "codemirror_mode": {
    "name": "ipython",
    "version": 3
   },
   "file_extension": ".py",
   "mimetype": "text/x-python",
   "name": "python",
   "nbconvert_exporter": "python",
   "pygments_lexer": "ipython3",
   "version": "3.9.7"
  }
 },
 "nbformat": 4,
 "nbformat_minor": 5
}
